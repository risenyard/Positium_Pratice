{
 "cells": [
  {
   "cell_type": "code",
   "execution_count": 19,
   "metadata": {},
   "outputs": [],
   "source": [
    "import pandas as pd\n",
    "import geopandas as gpd\n",
    "import numpy as np"
   ]
  },
  {
   "cell_type": "code",
   "execution_count": 20,
   "metadata": {},
   "outputs": [
    {
     "name": "stdout",
     "output_type": "stream",
     "text": [
      "        featurecla  scalerank  LABELRANK SOVEREIGNT SOV_A3  ADM0_DIF  LEVEL  \\\n",
      "0  Admin-0 country          0          2  Indonesia    IDN         0      2   \n",
      "1  Admin-0 country          0          3   Malaysia    MYS         0      2   \n",
      "2  Admin-0 country          0          2      Chile    CHL         0      2   \n",
      "3  Admin-0 country          0          3    Bolivia    BOL         0      2   \n",
      "4  Admin-0 country          0          2       Peru    PER         0      2   \n",
      "\n",
      "                TYPE TLC      ADMIN  ... FCLASS_TR  FCLASS_ID FCLASS_PL  \\\n",
      "0  Sovereign country   1  Indonesia  ...       NaN        NaN       NaN   \n",
      "1  Sovereign country   1   Malaysia  ...       NaN        NaN       NaN   \n",
      "2  Sovereign country   1      Chile  ...       NaN        NaN       NaN   \n",
      "3  Sovereign country   1    Bolivia  ...       NaN        NaN       NaN   \n",
      "4  Sovereign country   1       Peru  ...       NaN        NaN       NaN   \n",
      "\n",
      "  FCLASS_GR  FCLASS_IT FCLASS_NL FCLASS_SE  FCLASS_BD FCLASS_UA  \\\n",
      "0       NaN        NaN       NaN       NaN        NaN       NaN   \n",
      "1       NaN        NaN       NaN       NaN        NaN       NaN   \n",
      "2       NaN        NaN       NaN       NaN        NaN       NaN   \n",
      "3       NaN        NaN       NaN       NaN        NaN       NaN   \n",
      "4       NaN        NaN       NaN       NaN        NaN       NaN   \n",
      "\n",
      "                                            geometry  \n",
      "0  MULTIPOLYGON (((117.70361 4.16341, 117.70361 4...  \n",
      "1  MULTIPOLYGON (((117.70361 4.16341, 117.69711 4...  \n",
      "2  MULTIPOLYGON (((-69.51009 -17.50659, -69.50611...  \n",
      "3  POLYGON ((-69.51009 -17.50659, -69.51009 -17.5...  \n",
      "4  MULTIPOLYGON (((-69.51009 -17.50659, -69.63832...  \n",
      "\n",
      "[5 rows x 169 columns]\n"
     ]
    }
   ],
   "source": [
    "# Get geometry data from Natural Earth\n",
    "url = \"https://naciscdn.org/naturalearth/10m/cultural/ne_10m_admin_0_countries.zip\"\n",
    "data_v1 = gpd.read_file(url)\n",
    "print(data_v1.head())"
   ]
  },
  {
   "cell_type": "code",
   "execution_count": 21,
   "metadata": {},
   "outputs": [
    {
     "name": "stdout",
     "output_type": "stream",
     "text": [
      "EPSG:4326\n"
     ]
    }
   ],
   "source": [
    "# Set SRS=4326\n",
    "data_v1 = data_v1.to_crs(epsg=4326)\n",
    "print(data_v1.crs)"
   ]
  },
  {
   "cell_type": "code",
   "execution_count": 22,
   "metadata": {},
   "outputs": [
    {
     "name": "stdout",
     "output_type": "stream",
     "text": [
      "     iso_a2;country_name_eng Unnamed: 1 iso_a2            name_part2  \\\n",
      "1    ae;United Arab Emirates        NaN     AE  United Arab Emirates   \n",
      "3             af;Afghanistan        NaN     AF           Afghanistan   \n",
      "5     ag;Antigua and Barbuda        NaN     AG   Antigua and Barbuda   \n",
      "7                ai;Anguilla        NaN     AI              Anguilla   \n",
      "9                 al;Albania        NaN     AL               Albania   \n",
      "..                       ...        ...    ...                   ...   \n",
      "491              vn;Viet Nam        NaN     VN              Viet Nam   \n",
      "493                 ws;Samoa        NaN     WS                 Samoa   \n",
      "495               vu;Vanuatu        NaN     VU               Vanuatu   \n",
      "497                 ye;Yemen        NaN     YE                 Yemen   \n",
      "499               yt;Mayotte        NaN     YT               Mayotte   \n",
      "\n",
      "                      name  \n",
      "1     United Arab Emirates  \n",
      "3              Afghanistan  \n",
      "5      Antigua and Barbuda  \n",
      "7                 Anguilla  \n",
      "9                  Albania  \n",
      "..                     ...  \n",
      "491               Viet Nam  \n",
      "493                  Samoa  \n",
      "495                Vanuatu  \n",
      "497                  Yemen  \n",
      "499                Mayotte  \n",
      "\n",
      "[250 rows x 5 columns]\n"
     ]
    }
   ],
   "source": [
    "# Read the ISO_A2 list file\n",
    "countries = pd.read_csv('Task-1-Data/iso_a2_list 2.csv')\n",
    "# Get rid of all the nan rows\n",
    "countries = countries.dropna(how=\"all\")\n",
    "# Split the first colmn\n",
    "countries['iso_a2'] = countries['iso_a2;country_name_eng'].str.split(';').apply(lambda x: x[0])\n",
    "countries['name_part2'] = countries['iso_a2;country_name_eng'].str.split(';').apply(lambda x: x[1])\n",
    "# Get the full name of the country\n",
    "countries['name'] = countries['Unnamed: 1'].fillna('') + ' ' + countries['name_part2']\n",
    "#captionise the iso_a2 code\n",
    "countries['iso_a2'] = countries['iso_a2'].str.upper()\n",
    "print(countries)"
   ]
  },
  {
   "cell_type": "code",
   "execution_count": 23,
   "metadata": {},
   "outputs": [
    {
     "name": "stdout",
     "output_type": "stream",
     "text": [
      "                                              geometry  \\\n",
      "0    MULTIPOLYGON (((117.70361 4.16341, 117.70361 4...   \n",
      "1    MULTIPOLYGON (((117.70361 4.16341, 117.69711 4...   \n",
      "2    MULTIPOLYGON (((-69.51009 -17.50659, -69.50611...   \n",
      "3    POLYGON ((-69.51009 -17.50659, -69.51009 -17.5...   \n",
      "4    MULTIPOLYGON (((-69.51009 -17.50659, -69.63832...   \n",
      "..                                                 ...   \n",
      "240  MULTIPOLYGON (((134.27149 7.07453, 134.27931 7...   \n",
      "241  POLYGON ((144.88640 13.64020, 144.89666 13.617...   \n",
      "242  MULTIPOLYGON (((145.20574 14.18138, 145.25245 ...   \n",
      "243  MULTIPOLYGON (((50.55161 26.19424, 50.59474 26...   \n",
      "244  MULTIPOLYGON (((113.55860 22.16303, 113.56943 ...   \n",
      "\n",
      "                                name iso_a2      POP_EST   GDP_MD  \n",
      "0                          Indonesia     ID  270625568.0  1119190  \n",
      "1                           Malaysia     MY   31949777.0   364681  \n",
      "2                              Chile     CL   18952038.0   282318  \n",
      "3     Plurinational State of Bolivia     BO   11513100.0    40895  \n",
      "4                               Peru     PE   32510453.0   226848  \n",
      "..                               ...    ...          ...      ...  \n",
      "240                            Palau     PW      18008.0      268  \n",
      "241                             Guam     GU     167294.0     5920  \n",
      "242         Northern Mariana Islands     MP      57216.0     1323  \n",
      "243                          Bahrain     BH    1641172.0    38574  \n",
      "244                            Macao     MO     640445.0    53859  \n",
      "\n",
      "[245 rows x 5 columns]\n"
     ]
    }
   ],
   "source": [
    "# Delete the columns without proprt ISO_A2 values\n",
    "#data_v3 = data_v2[data_v2['ISO_A2_EH'] != '-99']\n",
    "#print(data_v3)\n",
    "# Match the geometry with the ISO_A2 list\n",
    "data_v2 = data_v1.merge(countries, left_on='ISO_A2_EH',right_on='iso_a2')\n",
    "# Keep only full name, ISO_A2, geometry, populatio and GDP of the table\n",
    "data_v3 = data_v2[['geometry', 'name', 'iso_a2','POP_EST','GDP_MD']]\n",
    "print(data_v3)"
   ]
  },
  {
   "cell_type": "code",
   "execution_count": 24,
   "metadata": {},
   "outputs": [
    {
     "name": "stdout",
     "output_type": "stream",
     "text": [
      "At least one geometry is not valid\n",
      "Invalid row index: [160]\n"
     ]
    },
    {
     "name": "stderr",
     "output_type": "stream",
     "text": [
      "c:\\Users\\risen\\.conda\\envs\\Python 38\\lib\\site-packages\\geopandas\\geodataframe.py:1443: SettingWithCopyWarning: \n",
      "A value is trying to be set on a copy of a slice from a DataFrame.\n",
      "Try using .loc[row_indexer,col_indexer] = value instead\n",
      "\n",
      "See the caveats in the documentation: https://pandas.pydata.org/pandas-docs/stable/user_guide/indexing.html#returning-a-view-versus-a-copy\n",
      "  super().__setitem__(key, value)\n"
     ]
    },
    {
     "name": "stdout",
     "output_type": "stream",
     "text": [
      "the invalid geometry has been corrected, and all geometries are valid\n"
     ]
    }
   ],
   "source": [
    "# check validity of data\n",
    "validity = data_v3.is_valid\n",
    "\n",
    "if validity.all():\n",
    "    print('All geometries are valid')\n",
    "# if some geometry is not valid, correct the geometry by setting the buffer\n",
    "else:\n",
    "    print('At least one geometry is not valid')\n",
    "    # get the index where validity is False\n",
    "    invalid_row_idx = np.where(validity == False)[0]\n",
    "    print('Invalid row index:', invalid_row_idx)\n",
    "    # locate the invalid geometries and set the buffer\n",
    "    selected_rows = data_v3.iloc[invalid_row_idx] \n",
    "    selected_rows['geometry'] = selected_rows['geometry'].buffer(0)\n",
    "    data_v3.iloc[invalid_row_idx] = selected_rows\n",
    "    # reexmaine the validity\n",
    "    validity_v2=data_v3.is_valid\n",
    "    if validity_v2.all():\n",
    "        print('the invalid geometry has been corrected, and all geometries are valid')\n",
    "    else:\n",
    "        print('Still at least one geometry is not valid')"
   ]
  },
  {
   "cell_type": "code",
   "execution_count": 25,
   "metadata": {},
   "outputs": [],
   "source": [
    "# Export the data to geopackage\n",
    "data_v3.to_file('Task-2-Data/Task-1-Exported-Geomeries.gpkg', layer='ISO_A2_Geometries', driver=\"GPKG\")"
   ]
  }
 ],
 "metadata": {
  "kernelspec": {
   "display_name": "Python 3",
   "language": "python",
   "name": "python3"
  },
  "language_info": {
   "codemirror_mode": {
    "name": "ipython",
    "version": 3
   },
   "file_extension": ".py",
   "mimetype": "text/x-python",
   "name": "python",
   "nbconvert_exporter": "python",
   "pygments_lexer": "ipython3",
   "version": "3.8.16"
  },
  "orig_nbformat": 4
 },
 "nbformat": 4,
 "nbformat_minor": 2
}
