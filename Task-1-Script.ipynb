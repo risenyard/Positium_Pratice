{
 "cells": [
  {
   "cell_type": "code",
   "execution_count": 1,
   "metadata": {},
   "outputs": [],
   "source": [
    "import geopandas as gpd\n",
    "import numpy as np"
   ]
  },
  {
   "cell_type": "code",
   "execution_count": 2,
   "metadata": {},
   "outputs": [
    {
     "name": "stdout",
     "output_type": "stream",
     "text": [
      "        featurecla  scalerank  LABELRANK SOVEREIGNT SOV_A3  ADM0_DIF  LEVEL  \\\n",
      "0  Admin-0 country          0          2  Indonesia    IDN         0      2   \n",
      "1  Admin-0 country          0          3   Malaysia    MYS         0      2   \n",
      "2  Admin-0 country          0          2      Chile    CHL         0      2   \n",
      "3  Admin-0 country          0          3    Bolivia    BOL         0      2   \n",
      "4  Admin-0 country          0          2       Peru    PER         0      2   \n",
      "\n",
      "                TYPE TLC      ADMIN  ... FCLASS_TR  FCLASS_ID FCLASS_PL  \\\n",
      "0  Sovereign country   1  Indonesia  ...      None       None      None   \n",
      "1  Sovereign country   1   Malaysia  ...      None       None      None   \n",
      "2  Sovereign country   1      Chile  ...      None       None      None   \n",
      "3  Sovereign country   1    Bolivia  ...      None       None      None   \n",
      "4  Sovereign country   1       Peru  ...      None       None      None   \n",
      "\n",
      "  FCLASS_GR  FCLASS_IT FCLASS_NL FCLASS_SE  FCLASS_BD FCLASS_UA  \\\n",
      "0      None       None      None      None       None      None   \n",
      "1      None       None      None      None       None      None   \n",
      "2      None       None      None      None       None      None   \n",
      "3      None       None      None      None       None      None   \n",
      "4      None       None      None      None       None      None   \n",
      "\n",
      "                                            geometry  \n",
      "0  MULTIPOLYGON (((117.70361 4.16341, 117.70361 4...  \n",
      "1  MULTIPOLYGON (((117.70361 4.16341, 117.69711 4...  \n",
      "2  MULTIPOLYGON (((-69.51009 -17.50659, -69.50611...  \n",
      "3  POLYGON ((-69.51009 -17.50659, -69.51009 -17.5...  \n",
      "4  MULTIPOLYGON (((-69.51009 -17.50659, -69.63832...  \n",
      "\n",
      "[5 rows x 169 columns]\n"
     ]
    }
   ],
   "source": [
    "# Get geometry data from Natural Earth\n",
    "url = \"https://naciscdn.org/naturalearth/10m/cultural/ne_10m_admin_0_countries.zip\"\n",
    "data_v1 = gpd.read_file(url)\n",
    "print(data_v1.head())"
   ]
  },
  {
   "cell_type": "code",
   "execution_count": 3,
   "metadata": {},
   "outputs": [
    {
     "name": "stdout",
     "output_type": "stream",
     "text": [
      "{'init': 'epsg:4326'}\n"
     ]
    },
    {
     "name": "stderr",
     "output_type": "stream",
     "text": [
      "c:\\Users\\risen\\.conda\\envs\\new37\\lib\\site-packages\\pyproj\\crs\\crs.py:131: FutureWarning: '+init=<authority>:<code>' syntax is deprecated. '<authority>:<code>' is the preferred initialization method. When making the change, be mindful of axis order changes: https://pyproj4.github.io/pyproj/stable/gotchas.html#axis-order-changes-in-proj-6\n",
      "  in_crs_string = _prepare_from_proj_string(in_crs_string)\n"
     ]
    }
   ],
   "source": [
    "# Set SRS=4326\n",
    "data_v1 = data_v1.to_crs(epsg=4326)\n",
    "print(data_v1.crs)"
   ]
  },
  {
   "cell_type": "code",
   "execution_count": 5,
   "metadata": {},
   "outputs": [
    {
     "name": "stdout",
     "output_type": "stream",
     "text": [
      "                                              geometry  \\\n",
      "0    MULTIPOLYGON (((117.70361 4.16341, 117.70361 4...   \n",
      "1    MULTIPOLYGON (((117.70361 4.16341, 117.69711 4...   \n",
      "2    MULTIPOLYGON (((-69.51009 -17.50659, -69.50611...   \n",
      "3    POLYGON ((-69.51009 -17.50659, -69.51009 -17.5...   \n",
      "4    MULTIPOLYGON (((-69.51009 -17.50659, -69.63832...   \n",
      "..                                                 ...   \n",
      "253  MULTIPOLYGON (((113.55860 22.16303, 113.56943 ...   \n",
      "254  POLYGON ((123.59702 -12.42832, 123.59775 -12.4...   \n",
      "255  POLYGON ((-79.98929 15.79495, -79.98782 15.796...   \n",
      "256  POLYGON ((-78.63707 15.86209, -78.64041 15.864...   \n",
      "257  POLYGON ((117.75389 15.15437, 117.75569 15.151...   \n",
      "\n",
      "                         NAME_EN ISO_A2_EH      POP_EST   GDP_MD  \n",
      "0                      Indonesia        ID  270625568.0  1119190  \n",
      "1                       Malaysia        MY   31949777.0   364681  \n",
      "2                          Chile        CL   18952038.0   282318  \n",
      "3                        Bolivia        BO   11513100.0    40895  \n",
      "4                           Peru        PE   32510453.0   226848  \n",
      "..                           ...       ...          ...      ...  \n",
      "253                        Macau        MO     640445.0    53859  \n",
      "254  Ashmore and Cartier Islands        AU          0.0        0  \n",
      "255              Bajo Nuevo Bank       -99          0.0        0  \n",
      "256              Serranilla Bank       -99          0.0        0  \n",
      "257            Scarborough Shoal       -99          0.0        0  \n",
      "\n",
      "[258 rows x 5 columns]\n"
     ]
    }
   ],
   "source": [
    "# Keep only full name, ISO_A2, geometry, populatio and GDP of the table\n",
    "data_v2 = data_v1[['geometry', 'NAME_EN', 'ISO_A2_EH','POP_EST','GDP_MD']]\n",
    "print(data_v2)"
   ]
  },
  {
   "cell_type": "code",
   "execution_count": 6,
   "metadata": {},
   "outputs": [
    {
     "name": "stdout",
     "output_type": "stream",
     "text": [
      "                                              geometry  \\\n",
      "0    MULTIPOLYGON (((117.70361 4.16341, 117.70361 4...   \n",
      "1    MULTIPOLYGON (((117.70361 4.16341, 117.69711 4...   \n",
      "2    MULTIPOLYGON (((-69.51009 -17.50659, -69.50611...   \n",
      "3    POLYGON ((-69.51009 -17.50659, -69.51009 -17.5...   \n",
      "4    MULTIPOLYGON (((-69.51009 -17.50659, -69.63832...   \n",
      "..                                                 ...   \n",
      "249  MULTIPOLYGON (((50.55161 26.19424, 50.59474 26...   \n",
      "250  POLYGON ((154.39129 -21.03004, 154.38852 -21.0...   \n",
      "252  POLYGON ((-109.21203 10.30268, -109.21036 10.2...   \n",
      "253  MULTIPOLYGON (((113.55860 22.16303, 113.56943 ...   \n",
      "254  POLYGON ((123.59702 -12.42832, 123.59775 -12.4...   \n",
      "\n",
      "                         NAME_EN ISO_A2_EH      POP_EST   GDP_MD  \n",
      "0                      Indonesia        ID  270625568.0  1119190  \n",
      "1                       Malaysia        MY   31949777.0   364681  \n",
      "2                          Chile        CL   18952038.0   282318  \n",
      "3                        Bolivia        BO   11513100.0    40895  \n",
      "4                           Peru        PE   32510453.0   226848  \n",
      "..                           ...       ...          ...      ...  \n",
      "249                      Bahrain        BH    1641172.0    38574  \n",
      "250            Coral Sea Islands        AU          4.0        0  \n",
      "252            Clipperton Island        FR          0.0        0  \n",
      "253                        Macau        MO     640445.0    53859  \n",
      "254  Ashmore and Cartier Islands        AU          0.0        0  \n",
      "\n",
      "[245 rows x 5 columns]\n"
     ]
    }
   ],
   "source": [
    "# Delete the columns without proprt ISO_A2 values\n",
    "data_v3 = data_v2[data_v2['ISO_A2_EH'] != '-99']\n",
    "print(data_v3)"
   ]
  },
  {
   "cell_type": "code",
   "execution_count": 7,
   "metadata": {},
   "outputs": [
    {
     "name": "stdout",
     "output_type": "stream",
     "text": [
      "At least one geometry is not valid\n",
      "Invalid row index: [158]\n"
     ]
    },
    {
     "name": "stderr",
     "output_type": "stream",
     "text": [
      "c:\\Users\\risen\\.conda\\envs\\new37\\lib\\site-packages\\ipykernel_launcher.py:14: SettingWithCopyWarning: \n",
      "A value is trying to be set on a copy of a slice from a DataFrame.\n",
      "Try using .loc[row_indexer,col_indexer] = value instead\n",
      "\n",
      "See the caveats in the documentation: https://pandas.pydata.org/pandas-docs/stable/user_guide/indexing.html#returning-a-view-versus-a-copy\n",
      "  \n",
      "c:\\Users\\risen\\.conda\\envs\\new37\\lib\\site-packages\\pandas\\core\\indexing.py:1717: SettingWithCopyWarning: \n",
      "A value is trying to be set on a copy of a slice from a DataFrame.\n",
      "Try using .loc[row_indexer,col_indexer] = value instead\n",
      "\n",
      "See the caveats in the documentation: https://pandas.pydata.org/pandas-docs/stable/user_guide/indexing.html#returning-a-view-versus-a-copy\n",
      "  isetter(loc, v)\n"
     ]
    },
    {
     "name": "stdout",
     "output_type": "stream",
     "text": [
      "the invalid geometry has been corrected, and all geometries are valid\n"
     ]
    }
   ],
   "source": [
    "# check validity of data\n",
    "validity = data_v3.is_valid\n",
    "\n",
    "if validity.all():\n",
    "    print('All geometries are valid')\n",
    "# if some geometry is not valid, correct the geometry by setting the buffer\n",
    "else:\n",
    "    print('At least one geometry is not valid')\n",
    "    # get the index where validity is False\n",
    "    invalid_row_idx = np.where(validity == False)[0]\n",
    "    print('Invalid row index:', invalid_row_idx)\n",
    "    # locate the invalid geometries and set the buffer\n",
    "    selected_rows = data_v3.iloc[invalid_row_idx] \n",
    "    selected_rows['geometry'] = selected_rows['geometry'].buffer(0)\n",
    "    data_v3.iloc[invalid_row_idx] = selected_rows\n",
    "    # reexmaine the validity\n",
    "    validity_v2=data_v3.is_valid\n",
    "    if validity_v2.all():\n",
    "        print('the invalid geometry has been corrected, and all geometries are valid')\n",
    "    else:\n",
    "        print('Still at least one geometry is not valid')"
   ]
  },
  {
   "cell_type": "code",
   "execution_count": null,
   "metadata": {},
   "outputs": [],
   "source": [
    "# Export the data to geopackage\n",
    "data_v3.to_file('Task-2-Data/Task-2-Exported-Geomeries.gpkg', layer='ISO_A2_Geometries', driver=\"GPKG\")"
   ]
  }
 ],
 "metadata": {
  "kernelspec": {
   "display_name": "Python 3",
   "language": "python",
   "name": "python3"
  },
  "language_info": {
   "codemirror_mode": {
    "name": "ipython",
    "version": 3
   },
   "file_extension": ".py",
   "mimetype": "text/x-python",
   "name": "python",
   "nbconvert_exporter": "python",
   "pygments_lexer": "ipython3",
   "version": "3.7.9"
  },
  "orig_nbformat": 4
 },
 "nbformat": 4,
 "nbformat_minor": 2
}
