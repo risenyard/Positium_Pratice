{
 "cells": [
  {
   "cell_type": "code",
   "execution_count": null,
   "metadata": {},
   "outputs": [],
   "source": [
    "import geopandas as gpd\n",
    "import numpy as np"
   ]
  },
  {
   "cell_type": "code",
   "execution_count": null,
   "metadata": {},
   "outputs": [],
   "source": [
    "# Get geometry data from Natural Earth\n",
    "url = \"https://naciscdn.org/naturalearth/10m/cultural/ne_10m_admin_0_countries.zip\"\n",
    "data_v1 = gpd.read_file(url)\n",
    "print(data_v1.head())"
   ]
  },
  {
   "cell_type": "code",
   "execution_count": null,
   "metadata": {},
   "outputs": [],
   "source": [
    "# Set SRS=4326\n",
    "data_v1 = data_v1.to_crs(epsg=4326)\n",
    "print(data_v1.crs)"
   ]
  },
  {
   "cell_type": "code",
   "execution_count": null,
   "metadata": {},
   "outputs": [],
   "source": [
    "# Keep only full name, ISO_A2, geometry, populatio and GDP of the table\n",
    "data_v2 = data_v1[['geometry', 'NAME_EN', 'ISO_A2_EH','POP_EST','GDP_MD']]\n",
    "print(data_v2)"
   ]
  },
  {
   "cell_type": "code",
   "execution_count": null,
   "metadata": {},
   "outputs": [],
   "source": [
    "# Delete the columns without proprt ISO_A2 values\n",
    "data_v3 = data_v2[data_v2['ISO_A2_EH'] != '-99']\n",
    "print(data_v3)"
   ]
  },
  {
   "cell_type": "code",
   "execution_count": null,
   "metadata": {},
   "outputs": [],
   "source": [
    "# check validity of data\n",
    "validity = data_v3.is_valid\n",
    "\n",
    "if validity.all():\n",
    "    print('All geometries are valid')\n",
    "# if some geometry is not valid, correct the geometry by setting the buffer\n",
    "else:\n",
    "    print('At least one geometry is not valid')\n",
    "    # get the index where validity is False\n",
    "    invalid_row_idx = np.where(validity == False)[0]\n",
    "    print('Invalid row index:', invalid_row_idx)\n",
    "    # locate the invalid geometries and set the buffer\n",
    "    selected_rows = data_v3.iloc[invalid_row_idx] \n",
    "    selected_rows['geometry'] = selected_rows['geometry'].buffer(0)\n",
    "    data_v3.iloc[invalid_row_idx] = selected_rows\n",
    "    # reexmaine the validity\n",
    "    validity_v2=data_v3.is_valid\n",
    "    if validity_v2.all():\n",
    "        print('the invalid geometry has been corrected, and all geometries are valid')\n",
    "    else:\n",
    "        print('Still at least one geometry is not valid')"
   ]
  },
  {
   "cell_type": "code",
   "execution_count": null,
   "metadata": {},
   "outputs": [],
   "source": [
    "# Export the data to geopackage\n",
    "data_v3.to_file('Task-2-Data/Task-2-Exported-Geomeries.gpkg', layer='ISO_A2_Geometries', driver=\"GPKG\")"
   ]
  }
 ],
 "metadata": {
  "kernelspec": {
   "display_name": "Python 3",
   "language": "python",
   "name": "python3"
  },
  "language_info": {
   "codemirror_mode": {
    "name": "ipython",
    "version": 3
   },
   "file_extension": ".py",
   "mimetype": "text/x-python",
   "name": "python",
   "nbconvert_exporter": "python",
   "pygments_lexer": "ipython3",
   "version": "3.8.16"
  },
  "orig_nbformat": 4
 },
 "nbformat": 4,
 "nbformat_minor": 2
}
